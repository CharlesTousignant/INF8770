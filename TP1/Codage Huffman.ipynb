{
  "cells": [
    {
      "cell_type": "markdown",
      "metadata": {
        "colab_type": "text",
        "id": "view-in-github"
      },
      "source": [
        "<a href=\"https://colab.research.google.com/github/gabilodeau/INF8770/blob/master/Codage%20Huffman.ipynb\" target=\"_parent\"><img src=\"https://colab.research.google.com/assets/colab-badge.svg\" alt=\"Open In Colab\"/></a>"
      ]
    },
    {
      "cell_type": "markdown",
      "metadata": {
        "colab_type": "text",
        "id": "Otl17dQ2gDNX"
      },
      "source": [
        "INF8770 Technologies multimédias\n",
        "\n",
        "Polytechnique Montréal\n",
        "\n",
        "Exemple de codage Huffman"
      ]
    },
    {
      "cell_type": "markdown",
      "metadata": {
        "colab_type": "text",
        "id": "tlHk-7kigfRz"
      },
      "source": [
        "Exécuter la ligne suivante pour colab"
      ]
    },
    {
      "cell_type": "code",
      "execution_count": 2,
      "metadata": {
        "colab": {
          "base_uri": "https://localhost:8080/",
          "height": 139
        },
        "colab_type": "code",
        "id": "_8J4A7mPgcNE",
        "outputId": "e9591da2-c220-4563-de43-c2994911b361"
      },
      "outputs": [
        {
          "name": "stdout",
          "output_type": "stream",
          "text": [
            "Collecting anytree\n",
            "\u001b[?25l  Downloading https://files.pythonhosted.org/packages/a8/65/be23d8c3ecd68d40541d49812cd94ed0f3ee37eb88669ca15df0e43daed1/anytree-2.8.0-py2.py3-none-any.whl (41kB)\n",
            "\r\u001b[K     |███████▉                        | 10kB 16.7MB/s eta 0:00:01\r\u001b[K     |███████████████▊                | 20kB 1.5MB/s eta 0:00:01\r\u001b[K     |███████████████████████▋        | 30kB 1.8MB/s eta 0:00:01\r\u001b[K     |███████████████████████████████▍| 40kB 2.1MB/s eta 0:00:01\r\u001b[K     |████████████████████████████████| 51kB 1.6MB/s \n",
            "\u001b[?25hRequirement already satisfied: six>=1.9.0 in /usr/local/lib/python3.6/dist-packages (from anytree) (1.15.0)\n",
            "Installing collected packages: anytree\n",
            "Successfully installed anytree-2.8.0\n"
          ]
        }
      ],
      "source": [
        "!pip install anytree"
      ]
    },
    {
      "cell_type": "code",
      "execution_count": 3,
      "metadata": {
        "colab": {},
        "colab_type": "code",
        "id": "vEL_HFc2gDNb"
      },
      "outputs": [],
      "source": [
        "import numpy as np\n",
        "from anytree import Node, RenderTree, PreOrderIter, AsciiStyle"
      ]
    },
    {
      "cell_type": "markdown",
      "metadata": {
        "colab_type": "text",
        "id": "sa8dGc6cgDNk"
      },
      "source": [
        "Message à coder"
      ]
    },
    {
      "cell_type": "code",
      "execution_count": 4,
      "metadata": {
        "colab": {},
        "colab_type": "code",
        "id": "TdUX0hIFgDNl"
      },
      "outputs": [],
      "source": [
        "Message = \"EBFFBEABEFCFDEBBFFFEFEFCCBFACBBABCDACDCABABBBCDDCDCAAABBBABABAABAAB\""
      ]
    },
    {
      "cell_type": "markdown",
      "metadata": {
        "colab_type": "text",
        "id": "ICArX3GjgDNr"
      },
      "source": [
        "Préparation pour la création de l'arbre. On trouve les feuilles (symboles) et leurs poids (nb occurences)."
      ]
    },
    {
      "cell_type": "code",
      "execution_count": 5,
      "metadata": {
        "colab": {},
        "colab_type": "code",
        "id": "eAE_QCKigDNs"
      },
      "outputs": [],
      "source": [
        "#Liste qui sera modifié jusqu'à ce qu'elle contienne seulement la racine de l'arbre\n",
        "ArbreSymb =[[Message[0], Message.count(Message[0]), Node(Message[0])]] \n",
        "#dictionnaire obtenu à partir de l'arbre.\n",
        "dictionnaire = [[Message[0], '']]\n",
        "nbsymboles = 1\n",
        "\n",
        "#Recherche des feuilles de l'arbre\n",
        "for i in range(1,len(Message)):\n",
        "    if not list(filter(lambda x: x[0] == Message[i], ArbreSymb)):\n",
        "        ArbreSymb += [[Message[i], Message.count(Message[i]),Node(Message[i])]]\n",
        "        dictionnaire += [[Message[i], '']]\n",
        "        nbsymboles += 1\n",
        "        \n",
        "longueurOriginale = np.ceil(np.log2(nbsymboles))*len(Message)    "
      ]
    },
    {
      "cell_type": "markdown",
      "metadata": {
        "colab_type": "text",
        "id": "nCjmn5cQgDNx"
      },
      "source": [
        "Affichage des feuilles trouvées. Les feuilles sont triées pour la construction de l'arbre selon l'algorithme Huffman "
      ]
    },
    {
      "cell_type": "code",
      "execution_count": 6,
      "metadata": {
        "colab": {
          "base_uri": "https://localhost:8080/",
          "height": 34
        },
        "colab_type": "code",
        "id": "fqeUeqEXgDNy",
        "outputId": "9afe7186-1444-44d2-fce6-b5dee97ae8bf"
      },
      "outputs": [
        {
          "name": "stdout",
          "output_type": "stream",
          "text": [
            "[['E', 6, Node('/E')], ['D', 6, Node('/D')], ['F', 10, Node('/F')], ['C', 10, Node('/C')], ['A', 15, Node('/A')], ['B', 20, Node('/B')]]\n"
          ]
        }
      ],
      "source": [
        "ArbreSymb = sorted(ArbreSymb, key=lambda x: x[1])\n",
        "print(ArbreSymb)"
      ]
    },
    {
      "cell_type": "markdown",
      "metadata": {
        "colab_type": "text",
        "id": "mkCDPzgMgDN4"
      },
      "source": [
        "Création de l'arbre"
      ]
    },
    {
      "cell_type": "code",
      "execution_count": 7,
      "metadata": {
        "colab": {
          "base_uri": "https://localhost:8080/",
          "height": 1000
        },
        "colab_type": "code",
        "id": "hh9PnKYKgDN5",
        "outputId": "ea10bfda-1183-4743-f987-a339fb155fc3"
      },
      "outputs": [
        {
          "name": "stdout",
          "output_type": "stream",
          "text": [
            "\n",
            "Arbre actuel:\n",
            "\n",
            "\n",
            "ED\n",
            "|-- E\n",
            "+-- D\n",
            "[['F', 10, Node('/F')], ['C', 10, Node('/C')], ['ED', 12, Node('/ED')], ['A', 15, Node('/A')], ['B', 20, Node('/B')]]\n",
            "\n",
            "Arbre actuel:\n",
            "\n",
            "\n",
            "ED\n",
            "|-- E\n",
            "+-- D\n",
            "FC\n",
            "|-- F\n",
            "+-- C\n",
            "[['ED', 12, Node('/ED')], ['A', 15, Node('/A')], ['B', 20, Node('/B')], ['FC', 20, Node('/FC')]]\n",
            "\n",
            "Arbre actuel:\n",
            "\n",
            "\n",
            "FC\n",
            "|-- F\n",
            "+-- C\n",
            "EDA\n",
            "|-- ED\n",
            "|   |-- E\n",
            "|   +-- D\n",
            "+-- A\n",
            "[['B', 20, Node('/B')], ['FC', 20, Node('/FC')], ['EDA', 27, Node('/EDA')]]\n",
            "\n",
            "Arbre actuel:\n",
            "\n",
            "\n",
            "EDA\n",
            "|-- ED\n",
            "|   |-- E\n",
            "|   +-- D\n",
            "+-- A\n",
            "BFC\n",
            "|-- B\n",
            "+-- FC\n",
            "    |-- F\n",
            "    +-- C\n",
            "[['EDA', 27, Node('/EDA')], ['BFC', 40, Node('/BFC')]]\n",
            "\n",
            "Arbre actuel:\n",
            "\n",
            "\n",
            "EDABFC\n",
            "|-- EDA\n",
            "|   |-- ED\n",
            "|   |   |-- E\n",
            "|   |   +-- D\n",
            "|   +-- A\n",
            "+-- BFC\n",
            "    |-- B\n",
            "    +-- FC\n",
            "        |-- F\n",
            "        +-- C\n",
            "[['EDABFC', 67, Node('/EDABFC')]]\n"
          ]
        }
      ],
      "source": [
        "while len(ArbreSymb) > 1:\n",
        "    #Fusion des noeuds de poids plus faibles\n",
        "    symbfusionnes = ArbreSymb[0][0] + ArbreSymb[1][0] \n",
        "    #Création d'un nouveau noeud\n",
        "    noeud = Node(symbfusionnes)\n",
        "    temp = [symbfusionnes, ArbreSymb[0][1] + ArbreSymb[1][1], noeud]\n",
        "    #Ajustement de l'arbre pour connecter le nouveau avec ses parents \n",
        "    ArbreSymb[0][2].parent = noeud\n",
        "    ArbreSymb[1][2].parent = noeud\n",
        "    #Enlève les noeuds fusionnés de la liste de noeud à fusionner.\n",
        "    del ArbreSymb[0:2]\n",
        "    #Ajout du nouveau noeud à la liste et tri.\n",
        "    ArbreSymb += [temp]\n",
        "    #Pour affichage de l'arbre ou des sous-branches\n",
        "    print('\\nArbre actuel:\\n\\n')\n",
        "    for i in range(len(ArbreSymb)):\n",
        "        if len(ArbreSymb[i][0]) > 1:\n",
        "            print(RenderTree(ArbreSymb[i][2], style=AsciiStyle()).by_attr())   \n",
        "    ArbreSymb = sorted(ArbreSymb, key=lambda x: x[1])  \n",
        "    print(ArbreSymb)"
      ]
    },
    {
      "cell_type": "markdown",
      "metadata": {
        "colab_type": "text",
        "id": "kbOnLW7UgDN-"
      },
      "source": [
        "On traverse l'arbre des symboles par parcours préfix, et on construit un arbre semblable de codes binaires. Le premier enfant avec 0, le deuxième avec 1.  Ensuite, on utilisera les 2 arbres pour construire le dictionnaire. "
      ]
    },
    {
      "cell_type": "code",
      "execution_count": 8,
      "metadata": {
        "colab": {
          "base_uri": "https://localhost:8080/",
          "height": 493
        },
        "colab_type": "code",
        "id": "YVHGEgJOgDOA",
        "outputId": "125190b7-53eb-460d-ebb0-efe15f2614a2"
      },
      "outputs": [
        {
          "name": "stdout",
          "output_type": "stream",
          "text": [
            "\n",
            "Arbre des codes:\n",
            "\n",
            " \n",
            "|-- 0\n",
            "|   |-- 00\n",
            "|   |   |-- 000\n",
            "|   |   +-- 001\n",
            "|   +-- 01\n",
            "+-- 1\n",
            "    |-- 10\n",
            "    +-- 11\n",
            "        |-- 110\n",
            "        +-- 111\n",
            "\n",
            "Arbre des symboles:\n",
            "\n",
            " EDABFC\n",
            "|-- EDA\n",
            "|   |-- ED\n",
            "|   |   |-- E\n",
            "|   |   +-- D\n",
            "|   +-- A\n",
            "+-- BFC\n",
            "    |-- B\n",
            "    +-- FC\n",
            "        |-- F\n",
            "        +-- C\n"
          ]
        }
      ],
      "source": [
        "ArbreCodes = Node('')\n",
        "noeud = ArbreCodes\n",
        "#print([node.name for node in PreOrderIter(ArbreSymb[0][2])])\n",
        "parcoursprefix = [node for node in PreOrderIter(ArbreSymb[0][2])]\n",
        "parcoursprefix = parcoursprefix[1:len(parcoursprefix)] #ignore la racine\n",
        "\n",
        "Prevdepth = 0 #pour suivre les mouvements en profondeur dans l'arbre\n",
        "for node in parcoursprefix:  #Liste des noeuds \n",
        "    if Prevdepth < node.depth: #On va plus profond dans l'arbre, on met un 0\n",
        "        temp = Node(noeud.name + '0')\n",
        "        noeud.children = [temp]\n",
        "        if node.children: #On avance le \"pointeur\" noeud si le noeud ajouté a des enfants.\n",
        "            noeud = temp\n",
        "    elif Prevdepth == node.depth: #Même profondeur, autre feuille, on met un 1\n",
        "        temp = Node(noeud.name + '1')\n",
        "        noeud.children = [noeud.children[0], temp]  #Ajoute le deuxième enfant\n",
        "        if node.children: #On avance le \"pointeur\" noeud si le noeud ajouté a des enfants.\n",
        "            noeud = temp\n",
        "    else:\n",
        "        for i in range(Prevdepth-node.depth): #On prend une autre branche, donc on met un 1\n",
        "            noeud = noeud.parent #On remontre dans l'arbre pour prendre la prochaine branche non explorée.\n",
        "        temp = Node(noeud.name + '1')\n",
        "        noeud.children = [noeud.children[0], temp]\n",
        "        if node.children:\n",
        "            noeud = temp\n",
        "        \n",
        "    Prevdepth = node.depth    \n",
        "    \n",
        "print('\\nArbre des codes:\\n\\n',RenderTree(ArbreCodes, style=AsciiStyle()).by_attr())         \n",
        "print('\\nArbre des symboles:\\n\\n', RenderTree(ArbreSymb[0][2], style=AsciiStyle()).by_attr())                "
      ]
    },
    {
      "cell_type": "code",
      "execution_count": 9,
      "metadata": {
        "colab": {
          "base_uri": "https://localhost:8080/",
          "height": 34
        },
        "colab_type": "code",
        "id": "Y0ZNqTu2gDOH",
        "outputId": "d7e4eee2-089b-4b8e-d3b6-46fce5a38dd8"
      },
      "outputs": [
        {
          "name": "stdout",
          "output_type": "stream",
          "text": [
            "[['E', '000'], ['B', '10'], ['F', '110'], ['A', '01'], ['C', '111'], ['D', '001']]\n"
          ]
        }
      ],
      "source": [
        "ArbreSymbList = [node for node in PreOrderIter(ArbreSymb[0][2])]\n",
        "ArbreCodeList = [node for node in PreOrderIter(ArbreCodes)]\n",
        "\n",
        "for i in range(len(ArbreSymbList)):\n",
        "    if ArbreSymbList[i].is_leaf: #Génère des codes pour les feuilles seulement\n",
        "        temp = list(filter(lambda x: x[0] == ArbreSymbList[i].name, dictionnaire))\n",
        "        if temp:\n",
        "            indice = dictionnaire.index(temp[0])\n",
        "            dictionnaire[indice][1] = ArbreCodeList[i].name\n",
        "            \n",
        "print(dictionnaire) "
      ]
    },
    {
      "cell_type": "markdown",
      "metadata": {
        "colab_type": "text",
        "id": "oIf0-eVMgDOK"
      },
      "source": [
        "Codage du message avec le dictionnaire"
      ]
    },
    {
      "cell_type": "code",
      "execution_count": 10,
      "metadata": {
        "colab": {},
        "colab_type": "code",
        "id": "mNp58IZ1gDOK"
      },
      "outputs": [],
      "source": [
        "MessageCode = []\n",
        "longueur = 0 \n",
        "for i in range(len(Message)):\n",
        "    substitution = list(filter(lambda x: x[0] == Message[i], dictionnaire))\n",
        "    MessageCode += [substitution[0][1]]\n",
        "    longueur += len(substitution[0][1]) "
      ]
    },
    {
      "cell_type": "code",
      "execution_count": 11,
      "metadata": {
        "colab": {
          "base_uri": "https://localhost:8080/",
          "height": 54
        },
        "colab_type": "code",
        "id": "piDeqhNhgDOQ",
        "outputId": "05400005-cf20-46cb-c028-fbd0f6d3eafe"
      },
      "outputs": [
        {
          "name": "stdout",
          "output_type": "stream",
          "text": [
            "['000', '10', '110', '110', '10', '000', '01', '10', '000', '110', '111', '110', '001', '000', '10', '10', '110', '110', '110', '000', '110', '000', '110', '111', '111', '10', '110', '01', '111', '10', '10', '01', '10', '111', '001', '01', '111', '001', '111', '01', '10', '01', '10', '10', '10', '111', '001', '001', '111', '001', '111', '01', '01', '01', '10', '10', '10', '01', '10', '01', '10', '01', '01', '10', '01', '01', '10']\n"
          ]
        }
      ],
      "source": [
        "print(MessageCode)"
      ]
    },
    {
      "cell_type": "markdown",
      "metadata": {
        "colab_type": "text",
        "id": "ngVWAm6qgDOT"
      },
      "source": [
        "Longueur en bits du message codé et celle de l'original"
      ]
    },
    {
      "cell_type": "code",
      "execution_count": 12,
      "metadata": {
        "colab": {
          "base_uri": "https://localhost:8080/",
          "height": 51
        },
        "colab_type": "code",
        "id": "c2ZNI3O4gDOT",
        "outputId": "b5678011-7ac2-4c00-fb70-3cf72f50c7d3"
      },
      "outputs": [
        {
          "name": "stdout",
          "output_type": "stream",
          "text": [
            "Longueur = 166\n",
            "Longueur originale = 201.0\n"
          ]
        }
      ],
      "source": [
        "print(\"Longueur = {0}\".format(longueur))\n",
        "print(\"Longueur originale = {0}\".format(longueurOriginale))"
      ]
    },
    {
      "cell_type": "code",
      "execution_count": null,
      "metadata": {
        "colab": {},
        "colab_type": "code",
        "id": "2OvSltPngDOW"
      },
      "outputs": [],
      "source": []
    }
  ],
  "metadata": {
    "colab": {
      "include_colab_link": true,
      "name": "Codage Huffman.ipynb",
      "provenance": []
    },
    "kernelspec": {
      "display_name": "Python 3",
      "language": "python",
      "name": "python3"
    },
    "language_info": {
      "codemirror_mode": {
        "name": "ipython",
        "version": 3
      },
      "file_extension": ".py",
      "mimetype": "text/x-python",
      "name": "python",
      "nbconvert_exporter": "python",
      "pygments_lexer": "ipython3",
      "version": "3.6.3"
    }
  },
  "nbformat": 4,
  "nbformat_minor": 0
}
